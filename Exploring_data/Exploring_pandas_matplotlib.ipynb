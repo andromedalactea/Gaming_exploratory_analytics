{
 "cells": [
  {
   "cell_type": "code",
   "execution_count": 18,
   "metadata": {},
   "outputs": [],
   "source": [
    "#Libraries\n",
    "import pandas as pd\n",
    "import matplotlib.pyplot as plt\n",
    "import seaborn as sns\n",
    "import numpy as np\n",
    "import os"
   ]
  },
  {
   "attachments": {},
   "cell_type": "markdown",
   "metadata": {},
   "source": [
    "**Charging the data with pandas from csv and xlxs formats**"
   ]
  },
  {
   "cell_type": "code",
   "execution_count": 62,
   "metadata": {},
   "outputs": [],
   "source": [
    "#1 Human development indicators\n",
    "Human_indicators = pd.read_excel(r'..\\Data\\1 Indicadores_del_desarrollo_humano_mundial Banco Mundial.xlsx')\n",
    "\n",
    "#2 Console sales\n",
    "console_sales=pd.read_excel(r'..\\Data\\2 Console_sales.xlsx')\n",
    "\n",
    "#3 Steam games\n",
    "steam_games=pd.read_csv(r'..\\Data\\3 Juegos en steam.csv')\n",
    "\n",
    "#4 Video games sales\n",
    "sales_video_games=pd.read_csv(r'..\\Data\\4. Video Games Sales.csv')"
   ]
  },
  {
   "cell_type": "code",
   "execution_count": null,
   "metadata": {},
   "outputs": [],
   "source": []
  }
 ],
 "metadata": {
  "kernelspec": {
   "display_name": "myenv",
   "language": "python",
   "name": "python3"
  },
  "language_info": {
   "codemirror_mode": {
    "name": "ipython",
    "version": 3
   },
   "file_extension": ".py",
   "mimetype": "text/x-python",
   "name": "python",
   "nbconvert_exporter": "python",
   "pygments_lexer": "ipython3",
   "version": "3.10.11"
  },
  "orig_nbformat": 4
 },
 "nbformat": 4,
 "nbformat_minor": 2
}
